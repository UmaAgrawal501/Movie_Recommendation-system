{
  "nbformat": 4,
  "nbformat_minor": 0,
  "metadata": {
    "colab": {
      "provenance": [],
      "authorship_tag": "ABX9TyN7PehrdTys979L6tffQVZA",
      "include_colab_link": true
    },
    "kernelspec": {
      "name": "python3",
      "display_name": "Python 3"
    },
    "language_info": {
      "name": "python"
    }
  },
  "cells": [
    {
      "cell_type": "markdown",
      "metadata": {
        "id": "view-in-github",
        "colab_type": "text"
      },
      "source": [
        "<a href=\"https://colab.research.google.com/github/UmaAgrawal501/Movie_Recommendation-system/blob/main/vercel_json.ipynb\" target=\"_parent\"><img src=\"https://colab.research.google.com/assets/colab-badge.svg\" alt=\"Open In Colab\"/></a>"
      ]
    },
    {
      "cell_type": "code",
      "execution_count": 1,
      "metadata": {
        "colab": {
          "base_uri": "https://localhost:8080/"
        },
        "id": "UamglGmHsYuj",
        "outputId": "c2420ff6-4a3c-4733-dc51-28b5031bf2a5"
      },
      "outputs": [
        {
          "output_type": "execute_result",
          "data": {
            "text/plain": [
              "{'rewrites': [{'source': '/(.*)',\n",
              "   'destination': 'https://www.google.com/search?q=$1'}]}"
            ]
          },
          "metadata": {},
          "execution_count": 1
        }
      ],
      "source": [
        "{\n",
        "    \"rewrites\": [\n",
        "        {\n",
        "            \"source\": \"/(.*)\",\n",
        "            \"destination\": \"https://www.google.com/search?q=$1\"\n",
        "        }\n",
        "    ]\n",
        "}"
      ]
    }
  ]
}